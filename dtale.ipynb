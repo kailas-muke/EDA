{
 "cells": [
  {
   "cell_type": "markdown",
   "metadata": {},
   "source": [
    "https://www.youtube.com/watch?v=xSXGcuiEzUc&t=262s&ab_channel=KrishNaik"
   ]
  },
  {
   "cell_type": "code",
   "execution_count": 1,
   "metadata": {},
   "outputs": [],
   "source": [
    "import seaborn as sns"
   ]
  },
  {
   "cell_type": "code",
   "execution_count": 2,
   "metadata": {},
   "outputs": [
    {
     "name": "stdout",
     "output_type": "stream",
     "text": [
      "['anagrams', 'anscombe', 'attention', 'brain_networks', 'car_crashes', 'diamonds', 'dots', 'exercise', 'flights', 'fmri', 'gammas', 'geyser', 'iris', 'mpg', 'penguins', 'planets', 'tips', 'titanic']\n"
     ]
    }
   ],
   "source": [
    "print(sns.get_dataset_names())"
   ]
  },
  {
   "cell_type": "code",
   "execution_count": 3,
   "metadata": {},
   "outputs": [],
   "source": [
    "df = sns.load_dataset('planets')"
   ]
  },
  {
   "cell_type": "code",
   "execution_count": 4,
   "metadata": {},
   "outputs": [
    {
     "data": {
      "text/html": [
       "<div>\n",
       "<style scoped>\n",
       "    .dataframe tbody tr th:only-of-type {\n",
       "        vertical-align: middle;\n",
       "    }\n",
       "\n",
       "    .dataframe tbody tr th {\n",
       "        vertical-align: top;\n",
       "    }\n",
       "\n",
       "    .dataframe thead th {\n",
       "        text-align: right;\n",
       "    }\n",
       "</style>\n",
       "<table border=\"1\" class=\"dataframe\">\n",
       "  <thead>\n",
       "    <tr style=\"text-align: right;\">\n",
       "      <th></th>\n",
       "      <th>method</th>\n",
       "      <th>number</th>\n",
       "      <th>orbital_period</th>\n",
       "      <th>mass</th>\n",
       "      <th>distance</th>\n",
       "      <th>year</th>\n",
       "    </tr>\n",
       "  </thead>\n",
       "  <tbody>\n",
       "    <tr>\n",
       "      <th>0</th>\n",
       "      <td>Radial Velocity</td>\n",
       "      <td>1</td>\n",
       "      <td>269.300</td>\n",
       "      <td>7.10</td>\n",
       "      <td>77.40</td>\n",
       "      <td>2006</td>\n",
       "    </tr>\n",
       "    <tr>\n",
       "      <th>1</th>\n",
       "      <td>Radial Velocity</td>\n",
       "      <td>1</td>\n",
       "      <td>874.774</td>\n",
       "      <td>2.21</td>\n",
       "      <td>56.95</td>\n",
       "      <td>2008</td>\n",
       "    </tr>\n",
       "    <tr>\n",
       "      <th>2</th>\n",
       "      <td>Radial Velocity</td>\n",
       "      <td>1</td>\n",
       "      <td>763.000</td>\n",
       "      <td>2.60</td>\n",
       "      <td>19.84</td>\n",
       "      <td>2011</td>\n",
       "    </tr>\n",
       "    <tr>\n",
       "      <th>3</th>\n",
       "      <td>Radial Velocity</td>\n",
       "      <td>1</td>\n",
       "      <td>326.030</td>\n",
       "      <td>19.40</td>\n",
       "      <td>110.62</td>\n",
       "      <td>2007</td>\n",
       "    </tr>\n",
       "    <tr>\n",
       "      <th>4</th>\n",
       "      <td>Radial Velocity</td>\n",
       "      <td>1</td>\n",
       "      <td>516.220</td>\n",
       "      <td>10.50</td>\n",
       "      <td>119.47</td>\n",
       "      <td>2009</td>\n",
       "    </tr>\n",
       "  </tbody>\n",
       "</table>\n",
       "</div>"
      ],
      "text/plain": [
       "            method  number  orbital_period   mass  distance  year\n",
       "0  Radial Velocity       1         269.300   7.10     77.40  2006\n",
       "1  Radial Velocity       1         874.774   2.21     56.95  2008\n",
       "2  Radial Velocity       1         763.000   2.60     19.84  2011\n",
       "3  Radial Velocity       1         326.030  19.40    110.62  2007\n",
       "4  Radial Velocity       1         516.220  10.50    119.47  2009"
      ]
     },
     "execution_count": 4,
     "metadata": {},
     "output_type": "execute_result"
    }
   ],
   "source": [
    "df.head()"
   ]
  },
  {
   "cell_type": "code",
   "execution_count": 6,
   "metadata": {},
   "outputs": [
    {
     "name": "stdout",
     "output_type": "stream",
     "text": [
      "Collecting dtale\n",
      "  Downloading https://files.pythonhosted.org/packages/6d/45/02ecdc0fe07462418aecd8d56ee51063f6dd50ea132847fae5f578116dd8/dtale-1.36.0-py2.py3-none-any.whl (14.0MB)\n",
      "Collecting kaleido (from dtale)\n",
      "  Downloading https://files.pythonhosted.org/packages/41/90/51523adbedc808e03271c7448fd71da1660cc02603eaaf10b9ab4f102146/kaleido-0.1.0.post1-py2.py3-none-win_amd64.whl (56.0MB)\n",
      "Requirement already satisfied: future>=0.14.0 in c:\\users\\mkailas\\anaconda3\\lib\\site-packages (from dtale) (0.17.1)\n",
      "Collecting xarray; python_version >= \"3.0\" (from dtale)\n",
      "  Downloading https://files.pythonhosted.org/packages/a5/19/debc1f470b8b9e2949da221663c8102ed6728f4d38dc964085ca43de1428/xarray-0.17.0-py3-none-any.whl (759kB)\n",
      "Collecting dash-daq (from dtale)\n",
      "  Downloading https://files.pythonhosted.org/packages/16/c1/9c6adfc3646990965a5b2ca073f579cc9c09d15553fcfcd83aefd1255494/dash_daq-0.5.0.tar.gz (642kB)\n",
      "Collecting squarify (from dtale)\n",
      "  Downloading https://files.pythonhosted.org/packages/0b/2b/2e77c35326efec19819cd1d729540d4d235e6c2a3f37658288a363a67da5/squarify-0.4.3-py3-none-any.whl\n",
      "Collecting flask-ngrok; python_version > \"3.0\" (from dtale)\n",
      "  Downloading https://files.pythonhosted.org/packages/af/6c/f54cb686ad1129e27d125d182f90f52b32f284e6c8df58c1bae54fa1adbc/flask_ngrok-0.0.25-py3-none-any.whl\n",
      "Collecting ppscore; python_version >= \"3.6\" (from dtale)\n",
      "  Downloading https://files.pythonhosted.org/packages/f7/25/5d7bc56240da13ef3be08ca4b6c61747d3ca3f8db649e67d97016a0629c8/ppscore-1.2.0.tar.gz (47kB)\n",
      "Requirement already satisfied: itsdangerous in c:\\users\\mkailas\\anaconda3\\lib\\site-packages (from dtale) (1.1.0)\n",
      "Requirement already satisfied: networkx; python_version >= \"3.0\" in c:\\users\\mkailas\\anaconda3\\lib\\site-packages (from dtale) (2.2)\n",
      "Collecting strsimpy (from dtale)\n",
      "  Downloading https://files.pythonhosted.org/packages/1e/03/13717aacea2f5c3c2ccb74fa921b0073476810afc079be3534eb17383639/strsimpy-0.2.0-py3-none-any.whl (45kB)\n",
      "Requirement already satisfied: pandas in c:\\users\\mkailas\\anaconda3\\lib\\site-packages (from dtale) (0.23.4)\n",
      "Requirement already satisfied: six in c:\\users\\mkailas\\anaconda3\\lib\\site-packages (from dtale) (1.13.0)\n",
      "Collecting dash>=1.5.0 (from dtale)\n",
      "  Downloading https://files.pythonhosted.org/packages/bc/b4/0bd5c94fdcb0eccb93c3c8068fe10f5607e542337d0b8f6e2d88078316a9/dash-1.19.0.tar.gz (75kB)\n",
      "Requirement already satisfied: scikit-learn>='0.21.0' in c:\\users\\mkailas\\anaconda3\\lib\\site-packages (from dtale) (0.23.1)\n",
      "Collecting lz4; python_version > \"3.0\" (from dtale)\n",
      "  Downloading https://files.pythonhosted.org/packages/3a/74/3f680183a63cec9a19cae706af98ac6ef5c18b9a5fa3bb81c2018d167430/lz4-3.1.3-cp37-cp37m-win_amd64.whl (192kB)\n",
      "Collecting Flask-Compress (from dtale)\n",
      "  Downloading https://files.pythonhosted.org/packages/da/4d/20eccc60b10f8765f15f42db35e1a0d010bc9a7562760410f7d9cef87d77/Flask-Compress-1.9.0.tar.gz\n",
      "Requirement already satisfied: statsmodels; python_version > \"3.0\" in c:\\users\\mkailas\\anaconda3\\lib\\site-packages (from dtale) (0.9.0)\n",
      "Requirement already satisfied: plotly>=4.9.0 in c:\\users\\mkailas\\anaconda3\\lib\\site-packages (from dtale) (4.14.1)\n",
      "Requirement already satisfied: requests in c:\\users\\mkailas\\anaconda3\\lib\\site-packages (from dtale) (2.25.1)\n",
      "Requirement already satisfied: openpyxl; python_version >= \"3.0\" in c:\\users\\mkailas\\anaconda3\\lib\\site-packages (from dtale) (2.5.12)\n",
      "Requirement already satisfied: scipy in c:\\users\\mkailas\\anaconda3\\lib\\site-packages (from dtale) (1.1.0)\n",
      "Requirement already satisfied: Flask>=1.0 in c:\\users\\mkailas\\anaconda3\\lib\\site-packages (from dtale) (1.1.1)\n",
      "Collecting dash-bootstrap-components; python_version > \"3.0\" (from dtale)\n",
      "  Downloading https://files.pythonhosted.org/packages/3a/1c/90161ed3491cef32b86dac8da297e01488bfcc84ae4acb6642076869c9ca/dash_bootstrap_components-0.11.3-py2.py3-none-any.whl (189kB)\n",
      "Collecting dash-colorscales (from dtale)\n",
      "  Downloading https://files.pythonhosted.org/packages/d5/24/de9318acd52989d77135a8497c8be536442b725473684ed4e1ab999b2051/dash_colorscales-0.0.4.tar.gz (62kB)\n",
      "Requirement already satisfied: xlrd in c:\\users\\mkailas\\anaconda3\\lib\\site-packages (from dtale) (1.2.0)\n",
      "Requirement already satisfied: numpy>=1.15 in c:\\users\\mkailas\\anaconda3\\lib\\site-packages (from xarray; python_version >= \"3.0\"->dtale) (1.17.4)\n",
      "Requirement already satisfied: setuptools>=40.4 in c:\\users\\mkailas\\anaconda3\\lib\\site-packages (from xarray; python_version >= \"3.0\"->dtale) (40.6.3)\n",
      "Requirement already satisfied: decorator>=4.3.0 in c:\\users\\mkailas\\anaconda3\\lib\\site-packages (from networkx; python_version >= \"3.0\"->dtale) (4.3.0)\n",
      "Requirement already satisfied: python-dateutil>=2.5.0 in c:\\users\\mkailas\\anaconda3\\lib\\site-packages (from pandas->dtale) (2.7.5)\n",
      "Requirement already satisfied: pytz>=2011k in c:\\users\\mkailas\\anaconda3\\lib\\site-packages (from pandas->dtale) (2018.7)\n",
      "Collecting dash_renderer==1.9.0 (from dash>=1.5.0->dtale)\n",
      "  Downloading https://files.pythonhosted.org/packages/be/a6/dd1edfe7b1102274e93991736c35b2a5e1a63b524c8d9f41bbb30f17340b/dash_renderer-1.9.0.tar.gz (1.0MB)\n",
      "Collecting dash-core-components==1.15.0 (from dash>=1.5.0->dtale)\n",
      "  Downloading https://files.pythonhosted.org/packages/22/78/ae0829e673f3df77403bcdb35073b1ed2f156080f5bcac6f21c1047d73fe/dash_core_components-1.15.0.tar.gz (3.5MB)\n",
      "Collecting dash-html-components==1.1.2 (from dash>=1.5.0->dtale)\n",
      "  Downloading https://files.pythonhosted.org/packages/3f/25/56de2708128fe375eecc2e18e0ccdc3a853494966e36334ec8a30be99b94/dash_html_components-1.1.2.tar.gz (188kB)\n",
      "Collecting dash-table==4.11.2 (from dash>=1.5.0->dtale)\n",
      "  Downloading https://files.pythonhosted.org/packages/3d/ae/96cb64b58d76391604b57f8c747f9a19ab2122e7ba214e2e0cf35484962b/dash_table-4.11.2.tar.gz (1.8MB)\n",
      "Requirement already satisfied: threadpoolctl>=2.0.0 in c:\\users\\mkailas\\anaconda3\\lib\\site-packages (from scikit-learn>='0.21.0'->dtale) (2.1.0)\n",
      "Requirement already satisfied: joblib>=0.11 in c:\\users\\mkailas\\anaconda3\\lib\\site-packages (from scikit-learn>='0.21.0'->dtale) (0.14.0)\n",
      "Collecting brotli (from Flask-Compress->dtale)\n",
      "  Downloading https://files.pythonhosted.org/packages/f1/cf/9cebdbbcecf9a9650cc6da672afaac5a731c9c9097a0f67031a9af9ce805/Brotli-1.0.9-cp37-cp37m-win_amd64.whl (365kB)\n",
      "Requirement already satisfied: retrying>=1.3.3 in c:\\users\\mkailas\\anaconda3\\lib\\site-packages (from plotly>=4.9.0->dtale) (1.3.3)\n",
      "Requirement already satisfied: urllib3<1.27,>=1.21.1 in c:\\users\\mkailas\\anaconda3\\lib\\site-packages (from requests->dtale) (1.24.1)\n",
      "Requirement already satisfied: certifi>=2017.4.17 in c:\\users\\mkailas\\anaconda3\\lib\\site-packages (from requests->dtale) (2018.11.29)\n",
      "Requirement already satisfied: idna<3,>=2.5 in c:\\users\\mkailas\\anaconda3\\lib\\site-packages (from requests->dtale) (2.8)\n",
      "Requirement already satisfied: chardet<5,>=3.0.2 in c:\\users\\mkailas\\anaconda3\\lib\\site-packages (from requests->dtale) (3.0.4)\n",
      "Requirement already satisfied: et-xmlfile in c:\\users\\mkailas\\anaconda3\\lib\\site-packages (from openpyxl; python_version >= \"3.0\"->dtale) (1.0.1)\n",
      "Requirement already satisfied: jdcal in c:\\users\\mkailas\\anaconda3\\lib\\site-packages (from openpyxl; python_version >= \"3.0\"->dtale) (1.4)\n",
      "Requirement already satisfied: Jinja2>=2.10.1 in c:\\users\\mkailas\\anaconda3\\lib\\site-packages (from Flask>=1.0->dtale) (2.10.3)\n",
      "Requirement already satisfied: click>=5.1 in c:\\users\\mkailas\\anaconda3\\lib\\site-packages (from Flask>=1.0->dtale) (7.0)\n",
      "Requirement already satisfied: Werkzeug>=0.15 in c:\\users\\mkailas\\anaconda3\\lib\\site-packages (from Flask>=1.0->dtale) (0.16.0)\n",
      "Requirement already satisfied: MarkupSafe>=0.23 in c:\\users\\mkailas\\anaconda3\\lib\\site-packages (from Jinja2>=2.10.1->Flask>=1.0->dtale) (1.1.1)\n",
      "Building wheels for collected packages: dash-daq, ppscore, dash, Flask-Compress, dash-colorscales, dash-renderer, dash-core-components, dash-html-components, dash-table\n",
      "  Running setup.py bdist_wheel for dash-daq: started\n",
      "  Running setup.py bdist_wheel for dash-daq: finished with status 'done'\n",
      "  Stored in directory: C:\\Users\\MKailas\\AppData\\Local\\pip\\Cache\\wheels\\1c\\9c\\f7\\84731716eaa9fc952cdbdd1f87df3ca9b8805c317c609efcd6\n",
      "  Running setup.py bdist_wheel for ppscore: started\n",
      "  Running setup.py bdist_wheel for ppscore: finished with status 'done'\n",
      "  Stored in directory: C:\\Users\\MKailas\\AppData\\Local\\pip\\Cache\\wheels\\50\\cc\\8f\\d0da07e4ec4e7a4c4cf32aee9057e4d1c318de910543b4684e\n",
      "  Running setup.py bdist_wheel for dash: started\n",
      "  Running setup.py bdist_wheel for dash: finished with status 'done'\n",
      "  Stored in directory: C:\\Users\\MKailas\\AppData\\Local\\pip\\Cache\\wheels\\f7\\50\\a7\\a230ff7f503b10120bff18c2524a375bb85a61ce6b519c8a77\n",
      "  Running setup.py bdist_wheel for Flask-Compress: started\n",
      "  Running setup.py bdist_wheel for Flask-Compress: finished with status 'done'\n",
      "  Stored in directory: C:\\Users\\MKailas\\AppData\\Local\\pip\\Cache\\wheels\\0d\\56\\7d\\e0c50541e5421b8291d958afb098c23818989e29d91a1edac5\n",
      "  Running setup.py bdist_wheel for dash-colorscales: started\n",
      "  Running setup.py bdist_wheel for dash-colorscales: finished with status 'done'\n",
      "  Stored in directory: C:\\Users\\MKailas\\AppData\\Local\\pip\\Cache\\wheels\\0e\\4a\\1c\\3490cfe6a59299b06917af6626a969c8fb7caead39b2d74cf2\n",
      "  Running setup.py bdist_wheel for dash-renderer: started\n",
      "  Running setup.py bdist_wheel for dash-renderer: finished with status 'done'\n",
      "  Stored in directory: C:\\Users\\MKailas\\AppData\\Local\\pip\\Cache\\wheels\\46\\a0\\ec\\2be2e8fc750e623d76f9690c397cc5ab28b33d0a16a49e10c5\n",
      "  Running setup.py bdist_wheel for dash-core-components: started\n",
      "  Running setup.py bdist_wheel for dash-core-components: finished with status 'done'\n",
      "  Stored in directory: C:\\Users\\MKailas\\AppData\\Local\\pip\\Cache\\wheels\\53\\3d\\be\\d628d6f66eedf9597f0c89c8ff43a5020ad1c25152c77d8e9f\n",
      "  Running setup.py bdist_wheel for dash-html-components: started\n",
      "  Running setup.py bdist_wheel for dash-html-components: finished with status 'done'\n",
      "  Stored in directory: C:\\Users\\MKailas\\AppData\\Local\\pip\\Cache\\wheels\\44\\95\\70\\0dc41f9b4e31b8a7ea22193aad5647b2c85cfab37bf13c0242\n",
      "  Running setup.py bdist_wheel for dash-table: started\n",
      "  Running setup.py bdist_wheel for dash-table: finished with status 'done'\n",
      "  Stored in directory: C:\\Users\\MKailas\\AppData\\Local\\pip\\Cache\\wheels\\72\\d9\\f6\\2ad62ac0037f1f0c0d3d10948a596b594a069057df0656ac3f\n",
      "Successfully built dash-daq ppscore dash Flask-Compress dash-colorscales dash-renderer dash-core-components dash-html-components dash-table\n",
      "Installing collected packages: kaleido, xarray, brotli, Flask-Compress, dash-renderer, dash-core-components, dash-html-components, dash-table, dash, dash-daq, squarify, flask-ngrok, ppscore, strsimpy, lz4, dash-bootstrap-components, dash-colorscales, dtale\n",
      "Successfully installed Flask-Compress-1.9.0 brotli-1.0.9 dash-1.19.0 dash-bootstrap-components-0.11.3 dash-colorscales-0.0.4 dash-core-components-1.15.0 dash-daq-0.5.0 dash-html-components-1.1.2 dash-renderer-1.9.0 dash-table-4.11.2 dtale-1.36.0 flask-ngrok-0.0.25 kaleido-0.1.0.post1 lz4-3.1.3 ppscore-1.2.0 squarify-0.4.3 strsimpy-0.2.0 xarray-0.17.0\n"
     ]
    },
    {
     "name": "stderr",
     "output_type": "stream",
     "text": [
      "xarray 0.17.0 has requirement pandas>=0.25, but you'll have pandas 0.23.4 which is incompatible.\n",
      "ppscore 1.2.0 has requirement pandas<2.0.0,>=1.0.0, but you'll have pandas 0.23.4 which is incompatible.\n"
     ]
    }
   ],
   "source": [
    "!pip install dtale"
   ]
  },
  {
   "cell_type": "code",
   "execution_count": 7,
   "metadata": {},
   "outputs": [],
   "source": [
    "import dtale"
   ]
  },
  {
   "cell_type": "code",
   "execution_count": 8,
   "metadata": {},
   "outputs": [
    {
     "data": {
      "text/html": [
       "\n",
       "        <iframe\n",
       "            width=\"100%\"\n",
       "            height=\"475\"\n",
       "            src=\"http://MKailas:40000/dtale/iframe/1\"\n",
       "            frameborder=\"0\"\n",
       "            allowfullscreen\n",
       "        ></iframe>\n",
       "        "
      ],
      "text/plain": [
       "<IPython.lib.display.IFrame at 0x254229c0c88>"
      ]
     },
     "metadata": {},
     "output_type": "display_data"
    },
    {
     "data": {
      "text/plain": []
     },
     "execution_count": 8,
     "metadata": {},
     "output_type": "execute_result"
    },
    {
     "name": "stdout",
     "output_type": "stream",
     "text": [
      "Exception occurred while processing request: data type \"string\" not understood\n",
      "Traceback (most recent call last):\n",
      "  File \"C:\\Users\\MKailas\\Anaconda3\\lib\\site-packages\\dtale\\views.py\", line 85, in _handle_exceptions\n",
      "    return func(*args, **kwargs)\n",
      "  File \"C:\\Users\\MKailas\\Anaconda3\\lib\\site-packages\\dtale\\views.py\", line 1841, in describe\n",
      "    uniq_grp[\"value\"] = uniq_grp[\"value\"].astype(uniq_type)\n",
      "  File \"C:\\Users\\MKailas\\Anaconda3\\lib\\site-packages\\pandas\\util\\_decorators.py\", line 178, in wrapper\n",
      "    return func(*args, **kwargs)\n",
      "  File \"C:\\Users\\MKailas\\Anaconda3\\lib\\site-packages\\pandas\\core\\generic.py\", line 5001, in astype\n",
      "    **kwargs)\n",
      "  File \"C:\\Users\\MKailas\\Anaconda3\\lib\\site-packages\\pandas\\core\\internals.py\", line 3714, in astype\n",
      "    return self.apply('astype', dtype=dtype, **kwargs)\n",
      "  File \"C:\\Users\\MKailas\\Anaconda3\\lib\\site-packages\\pandas\\core\\internals.py\", line 3581, in apply\n",
      "    applied = getattr(b, f)(**kwargs)\n",
      "  File \"C:\\Users\\MKailas\\Anaconda3\\lib\\site-packages\\pandas\\core\\internals.py\", line 575, in astype\n",
      "    **kwargs)\n",
      "  File \"C:\\Users\\MKailas\\Anaconda3\\lib\\site-packages\\pandas\\core\\internals.py\", line 636, in _astype\n",
      "    dtype = np.dtype(dtype)\n",
      "TypeError: data type \"string\" not understood\n"
     ]
    },
    {
     "name": "stderr",
     "output_type": "stream",
     "text": [
      "2021-03-03 18:47:16,024 - ERROR    - Exception occurred while processing request: data type \"string\" not understood\n",
      "Traceback (most recent call last):\n",
      "  File \"C:\\Users\\MKailas\\Anaconda3\\lib\\site-packages\\dtale\\views.py\", line 85, in _handle_exceptions\n",
      "    return func(*args, **kwargs)\n",
      "  File \"C:\\Users\\MKailas\\Anaconda3\\lib\\site-packages\\dtale\\views.py\", line 1841, in describe\n",
      "    uniq_grp[\"value\"] = uniq_grp[\"value\"].astype(uniq_type)\n",
      "  File \"C:\\Users\\MKailas\\Anaconda3\\lib\\site-packages\\pandas\\util\\_decorators.py\", line 178, in wrapper\n",
      "    return func(*args, **kwargs)\n",
      "  File \"C:\\Users\\MKailas\\Anaconda3\\lib\\site-packages\\pandas\\core\\generic.py\", line 5001, in astype\n",
      "    **kwargs)\n",
      "  File \"C:\\Users\\MKailas\\Anaconda3\\lib\\site-packages\\pandas\\core\\internals.py\", line 3714, in astype\n",
      "    return self.apply('astype', dtype=dtype, **kwargs)\n",
      "  File \"C:\\Users\\MKailas\\Anaconda3\\lib\\site-packages\\pandas\\core\\internals.py\", line 3581, in apply\n",
      "    applied = getattr(b, f)(**kwargs)\n",
      "  File \"C:\\Users\\MKailas\\Anaconda3\\lib\\site-packages\\pandas\\core\\internals.py\", line 575, in astype\n",
      "    **kwargs)\n",
      "  File \"C:\\Users\\MKailas\\Anaconda3\\lib\\site-packages\\pandas\\core\\internals.py\", line 636, in _astype\n",
      "    dtype = np.dtype(dtype)\n",
      "TypeError: data type \"string\" not understood\n"
     ]
    }
   ],
   "source": [
    "dtale.show(df)"
   ]
  },
  {
   "cell_type": "code",
   "execution_count": 9,
   "metadata": {},
   "outputs": [],
   "source": [
    "s = df['distance']\n",
    "q1 = s.quantile(0.25)\n",
    "q3 = s.quantile(0.75)\n",
    "iqr = q3 - q1\n",
    "iqr_lower = q1 - 1.5 * iqr\n",
    "iqr_upper = q3 + 1.5 * iqr\n",
    "outliers = dict(s[(s < iqr_lower) | (s > iqr_upper)])"
   ]
  },
  {
   "cell_type": "code",
   "execution_count": 10,
   "metadata": {},
   "outputs": [
    {
     "data": {
      "text/plain": [
       "{39: 500.0,\n",
       " 40: 500.0,\n",
       " 93: 680.0,\n",
       " 100: 460.0,\n",
       " 102: 560.0,\n",
       " 103: 1150.0,\n",
       " 104: 1060.0,\n",
       " 105: 1340.0,\n",
       " 106: 840.0,\n",
       " 107: 920.0,\n",
       " 108: 870.0,\n",
       " 109: 770.0,\n",
       " 110: 1230.0,\n",
       " 111: 600.0,\n",
       " 158: 480.0,\n",
       " 185: 535.0,\n",
       " 187: 411.0,\n",
       " 189: 642.0,\n",
       " 190: 501.0,\n",
       " 192: 447.0,\n",
       " 193: 542.0,\n",
       " 197: 453.0,\n",
       " 654: 550.0,\n",
       " 658: 1330.0,\n",
       " 659: 650.0,\n",
       " 660: 650.0,\n",
       " 661: 650.0,\n",
       " 664: 613.0,\n",
       " 665: 613.0,\n",
       " 666: 613.0,\n",
       " 667: 613.0,\n",
       " 668: 613.0,\n",
       " 669: 613.0,\n",
       " 670: 600.0,\n",
       " 672: 980.0,\n",
       " 675: 800.0,\n",
       " 679: 2119.0,\n",
       " 680: 2119.0,\n",
       " 688: 800.0,\n",
       " 689: 800.0,\n",
       " 690: 1200.0,\n",
       " 691: 1200.0,\n",
       " 701: 1400.0,\n",
       " 702: 1400.0,\n",
       " 703: 1400.0,\n",
       " 704: 1400.0,\n",
       " 705: 1400.0,\n",
       " 706: 2100.0,\n",
       " 707: 2100.0,\n",
       " 718: 1499.0,\n",
       " 719: 1645.0,\n",
       " 720: 470.0,\n",
       " 721: 470.0,\n",
       " 725: 600.0,\n",
       " 726: 1200.0,\n",
       " 727: 2700.0,\n",
       " 728: 770.0,\n",
       " 732: 1950.0,\n",
       " 733: 2250.0,\n",
       " 735: 855.0,\n",
       " 736: 855.0,\n",
       " 737: 1500.0,\n",
       " 738: 1500.0,\n",
       " 776: 1000.0,\n",
       " 780: 1107.0,\n",
       " 781: 1107.0,\n",
       " 787: 1180.0,\n",
       " 788: 1180.0,\n",
       " 789: 800.0,\n",
       " 790: 1330.0,\n",
       " 791: 1140.0,\n",
       " 793: 570.0,\n",
       " 818: 780.0,\n",
       " 819: 780.0,\n",
       " 820: 780.0,\n",
       " 821: 780.0,\n",
       " 822: 780.0,\n",
       " 823: 780.0,\n",
       " 824: 780.0,\n",
       " 825: 1030.0,\n",
       " 898: 1056.0,\n",
       " 901: 2000.0,\n",
       " 905: 3600.0,\n",
       " 909: 2300.0,\n",
       " 910: 2800.0,\n",
       " 911: 7720.0,\n",
       " 912: 7560.0,\n",
       " 924: 2570.0,\n",
       " 925: 4080.0,\n",
       " 926: 4080.0,\n",
       " 927: 1760.0,\n",
       " 928: 4970.0,\n",
       " 933: 600.0,\n",
       " 934: 2500.0,\n",
       " 938: 1200.0,\n",
       " 945: 1200.0,\n",
       " 951: 8500.0,\n",
       " 952: 8500.0,\n",
       " 955: 492.0,\n",
       " 959: 408.0,\n",
       " 974: 400.0,\n",
       " 990: 450.0,\n",
       " 1008: 455.0,\n",
       " 1011: 400.0,\n",
       " 1012: 480.0,\n",
       " 1023: 550.0,\n",
       " 1026: 470.0,\n",
       " 1028: 3200.0}"
      ]
     },
     "execution_count": 10,
     "metadata": {},
     "output_type": "execute_result"
    }
   ],
   "source": [
    "outliers"
   ]
  },
  {
   "cell_type": "code",
   "execution_count": null,
   "metadata": {},
   "outputs": [],
   "source": []
  }
 ],
 "metadata": {
  "kernelspec": {
   "display_name": "Python 3",
   "language": "python",
   "name": "python3"
  },
  "language_info": {
   "codemirror_mode": {
    "name": "ipython",
    "version": 3
   },
   "file_extension": ".py",
   "mimetype": "text/x-python",
   "name": "python",
   "nbconvert_exporter": "python",
   "pygments_lexer": "ipython3",
   "version": "3.7.1"
  }
 },
 "nbformat": 4,
 "nbformat_minor": 2
}
